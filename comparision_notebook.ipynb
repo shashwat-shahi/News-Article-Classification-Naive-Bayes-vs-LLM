{
  "cells": [
    {
      "cell_type": "markdown",
      "metadata": {
        "id": "WiRjKVMBrx1i"
      },
      "source": [
        "# Part 1: Using NB Classifier to classify documents."
      ]
    },
    {
      "cell_type": "markdown",
      "metadata": {
        "id": "bc2bpG5ssM70"
      },
      "source": [
        "## Dataset used: AG News Dataset"
      ]
    },
    {
      "cell_type": "code",
      "execution_count": 7,
      "metadata": {
        "id": "hG8YYSNHsXDV"
      },
      "outputs": [],
      "source": [
        "import pandas as pd\n",
        "from datasets import load_dataset\n",
        "from sklearn.model_selection import train_test_split\n",
        "from sklearn.naive_bayes import MultinomialNB\n",
        "from sklearn.feature_extraction.text import CountVectorizer\n",
        "from sklearn.metrics import classification_report, accuracy_score\n",
        "\n",
        "pd.set_option('display.max_colwidth', None)"
      ]
    },
    {
      "cell_type": "code",
      "execution_count": 2,
      "metadata": {
        "id": "z_OovnGAsZOR"
      },
      "outputs": [],
      "source": [
        "# Load AG News dataset\n",
        "dataset = load_dataset(\"ag_news\")"
      ]
    },
    {
      "cell_type": "code",
      "execution_count": 3,
      "metadata": {
        "id": "PbcXyJsvsaxn"
      },
      "outputs": [],
      "source": [
        "# Convert to pandas DataFrame for easier handling\n",
        "train_df = pd.DataFrame(dataset['train'])\n",
        "test_df = pd.DataFrame(dataset['test'])"
      ]
    },
    {
      "cell_type": "code",
      "execution_count": 10,
      "metadata": {},
      "outputs": [
        {
          "name": "stdout",
          "output_type": "stream",
          "text": [
            "120000\n"
          ]
        }
      ],
      "source": [
        "print(len(train_df))"
      ]
    },
    {
      "cell_type": "code",
      "execution_count": 4,
      "metadata": {
        "colab": {
          "base_uri": "https://localhost:8080/"
        },
        "id": "tVamcjMZxl7R",
        "outputId": "fea595fc-0069-4753-f0f0-fe90471b645a"
      },
      "outputs": [
        {
          "name": "stdout",
          "output_type": "stream",
          "text": [
            "7600\n"
          ]
        }
      ],
      "source": [
        "print(len(test_df))"
      ]
    },
    {
      "cell_type": "code",
      "execution_count": 9,
      "metadata": {},
      "outputs": [
        {
          "name": "stdout",
          "output_type": "stream",
          "text": [
            "Fears for T N pension after talks Unions representing workers at Turner   Newall say they are 'disappointed' after talks with stricken parent firm Federal Mogul.\n",
            "The Race is On: Second Private Team Sets Launch Date for Human Spaceflight (SPACE.com) SPACE.com - TORONTO, Canada -- A second\\team of rocketeers competing for the  #36;10 million Ansari X Prize, a contest for\\privately funded suborbital space flight, has officially announced the first\\launch date for its manned rocket.\n",
            "Ky. Company Wins Grant to Study Peptides (AP) AP - A company founded by a chemistry researcher at the University of Louisville won a grant to develop a method of producing better peptides, which are short chains of amino acids, the building blocks of proteins.\n",
            "Prediction Unit Helps Forecast Wildfires (AP) AP - It's barely dawn when Mike Fitzpatrick starts his shift with a blur of colorful maps, figures and endless charts, but already he knows what the day will bring. Lightning will strike in places he expects. Winds will pick up, moist places will dry and flames will roar.\n",
            "Calif. Aims to Limit Farm-Related Smog (AP) AP - Southern California's smog-fighting agency went after emissions of the bovine variety Friday, adopting the nation's first rules to reduce air pollution from dairy cow manure.\n"
          ]
        }
      ],
      "source": [
        "for text in test_df['text'][:5]:\n",
        "    print(text)"
      ]
    },
    {
      "cell_type": "code",
      "execution_count": null,
      "metadata": {
        "id": "txG24EODtKG5"
      },
      "outputs": [],
      "source": [
        "# Naive Bayes Classification\n",
        "def train_nbc_classifier(train_df, test_df):\n",
        "    # Create vectorizer\n",
        "    vectorizer = CountVectorizer(stop_words='english')\n",
        "\n",
        "    # Transform training data\n",
        "    X_train_vectorized = vectorizer.fit_transform(train_df['text'])\n",
        "\n",
        "    # Initialize and train NBC\n",
        "    nbc = MultinomialNB()\n",
        "    nbc.fit(X_train_vectorized, train_df['label'])\n",
        "\n",
        "    # Transform test data\n",
        "    X_test_vectorized = vectorizer.transform(test_df['text'])\n",
        "\n",
        "    # Make predictions\n",
        "    predictions = nbc.predict(X_test_vectorized)\n",
        "\n",
        "    # Calculate accuracy\n",
        "    accuracy = accuracy_score(test_df['label'], predictions)\n",
        "\n",
        "    # Generate classification report\n",
        "    report = classification_report(test_df['label'], predictions)\n",
        "    return accuracy, report, vectorizer, nbc"
      ]
    },
    {
      "cell_type": "code",
      "execution_count": null,
      "metadata": {
        "colab": {
          "base_uri": "https://localhost:8080/"
        },
        "id": "j4j09wdntPBh",
        "outputId": "e7896e66-70fc-4a71-9de3-352446cddc92"
      },
      "outputs": [
        {
          "name": "stdout",
          "output_type": "stream",
          "text": [
            "Accuracy: 0.9044736842105263\n",
            "\n",
            "Classification Report:\n",
            "              precision    recall  f1-score   support\n",
            "\n",
            "           0       0.91      0.90      0.91      1900\n",
            "           1       0.95      0.98      0.97      1900\n",
            "           2       0.87      0.85      0.86      1900\n",
            "           3       0.88      0.89      0.88      1900\n",
            "\n",
            "    accuracy                           0.90      7600\n",
            "   macro avg       0.90      0.90      0.90      7600\n",
            "weighted avg       0.90      0.90      0.90      7600\n",
            "\n"
          ]
        }
      ],
      "source": [
        "nbc_accuracy, nbc_report, _, _ = train_nbc_classifier(train_df, test_df)\n",
        "print(f\"Accuracy: {nbc_accuracy}\")\n",
        "print(\"\\nClassification Report:\")\n",
        "print(nbc_report)"
      ]
    },
    {
      "cell_type": "markdown",
      "metadata": {
        "id": "fywK7vEYgGgy"
      },
      "source": [
        "# Part 2: Classification using LLMs"
      ]
    },
    {
      "cell_type": "markdown",
      "metadata": {
        "id": "DKCh_qJWgKzM"
      },
      "source": [
        "## Zero Shot Learning"
      ]
    },
    {
      "cell_type": "code",
      "execution_count": null,
      "metadata": {
        "colab": {
          "base_uri": "https://localhost:8080/"
        },
        "id": "o2vSsGi3oKey",
        "outputId": "d84b5733-da42-49d1-dcc0-d5ee143687d8"
      },
      "outputs": [
        {
          "name": "stderr",
          "output_type": "stream",
          "text": [
            "Setting `pad_token_id` to `eos_token_id`:128001 for open-end generation.\n",
            "Setting `pad_token_id` to `eos_token_id`:128001 for open-end generation.\n"
          ]
        },
        {
          "name": "stdout",
          "output_type": "stream",
          "text": [
            "Article Title: Oil prices rise due to increased demand\n",
            "Predicted Category: World\n",
            "--------------------------------------------------\n"
          ]
        },
        {
          "name": "stderr",
          "output_type": "stream",
          "text": [
            "Setting `pad_token_id` to `eos_token_id`:128001 for open-end generation.\n"
          ]
        },
        {
          "name": "stdout",
          "output_type": "stream",
          "text": [
            "Article Title: Local team wins championship\n",
            "Predicted Category: World: Yes\n",
            "--------------------------------------------------\n"
          ]
        },
        {
          "name": "stderr",
          "output_type": "stream",
          "text": [
            "Setting `pad_token_id` to `eos_token_id`:128001 for open-end generation.\n"
          ]
        },
        {
          "name": "stdout",
          "output_type": "stream",
          "text": [
            "Article Title: New study reveals health benefits of exercise\n",
            "Predicted Category: World\n",
            "--------------------------------------------------\n",
            "Article Title: Global leaders meet for climate summit\n",
            "Predicted Category: World\n",
            "--------------------------------------------------\n"
          ]
        }
      ],
      "source": [
        "from transformers import AutoTokenizer, AutoModelForCausalLM\n",
        "\n",
        "hf_token = \"Fill in your Hugging Face token here\"\n",
        "\n",
        "model_name = \"meta-llama/Llama-3.2-1B\"\n",
        "tokenizer = AutoTokenizer.from_pretrained(model_name, token=hf_token)\n",
        "model = AutoModelForCausalLM.from_pretrained(model_name, token=hf_token)\n",
        "\n",
        "def classify_with_llama(article_title, article_body):\n",
        "    prompt = f\"\"\"\n",
        "    Classify the following news article into one of these categories: World, Sports, Business, or Science/Technology.\n",
        "    Respond with only one category name (World, Sports, Business, or Science/Technology) and nothing else.\n",
        "\n",
        "    Article Title: {article_title}\n",
        "    Article Body: {article_body}\n",
        "\n",
        "    Category:\n",
        "    \"\"\"\n",
        "\n",
        "    inputs = tokenizer(prompt, return_tensors=\"pt\")\n",
        "    outputs = model.generate(**inputs, max_new_tokens=5, temperature=0.3)\n",
        "\n",
        "    response = tokenizer.decode(outputs[0], skip_special_tokens=True)\n",
        "    predicted_category = response.split(\"Category:\")[-1].strip().split(\"\\n\")[0]\n",
        "\n",
        "    return predicted_category\n",
        "\n",
        "sample_articles = [\n",
        "    {\"title\": \"Oil prices rise due to increased demand\", \"body\": \"The global oil market is seeing an increase in prices due to rising demand and limited supply.\"},\n",
        "    {\"title\": \"Local team wins championship\", \"body\": \"The local football team secured a thrilling victory in the national championship.\"},\n",
        "    {\"title\": \"New study reveals health benefits of exercise\", \"body\": \"Researchers have found that regular exercise can significantly improve mental health.\"},\n",
        "    {\"title\": \"Global leaders meet for climate summit\", \"body\": \"World leaders are gathering to discuss strategies for combating climate change.\"}\n",
        "]\n",
        "\n",
        "for article in sample_articles:\n",
        "    category = classify_with_llama(article[\"title\"], article[\"body\"])\n",
        "    print(f\"Article Title: {article['title']}\")\n",
        "    print(f\"Predicted Category: {category}\")\n",
        "    print(\"-\" * 50)"
      ]
    },
    {
      "cell_type": "markdown",
      "metadata": {
        "id": "r47FI_1VgNOn"
      },
      "source": [
        "## Few Shot Learning"
      ]
    },
    {
      "cell_type": "code",
      "execution_count": null,
      "metadata": {
        "colab": {
          "base_uri": "https://localhost:8080/"
        },
        "id": "KhglJXJWpLEM",
        "outputId": "d42de27b-3d42-4090-9f4a-09584e13d757"
      },
      "outputs": [
        {
          "name": "stderr",
          "output_type": "stream",
          "text": [
            "Setting `pad_token_id` to `eos_token_id`:128001 for open-end generation.\n",
            "Setting `pad_token_id` to `eos_token_id`:128001 for open-end generation.\n"
          ]
        },
        {
          "name": "stdout",
          "output_type": "stream",
          "text": [
            "Article Title: Oil prices rise due to increased demand\n",
            "Predicted Category: Business\n",
            "--------------------------------------------------\n"
          ]
        },
        {
          "name": "stderr",
          "output_type": "stream",
          "text": [
            "Setting `pad_token_id` to `eos_token_id`:128001 for open-end generation.\n"
          ]
        },
        {
          "name": "stdout",
          "output_type": "stream",
          "text": [
            "Article Title: Local team wins championship\n",
            "Predicted Category: World\n",
            "--------------------------------------------------\n"
          ]
        },
        {
          "name": "stderr",
          "output_type": "stream",
          "text": [
            "Setting `pad_token_id` to `eos_token_id`:128001 for open-end generation.\n"
          ]
        },
        {
          "name": "stdout",
          "output_type": "stream",
          "text": [
            "Article Title: New study reveals health benefits of exercise\n",
            "Predicted Category: Business\n",
            "--------------------------------------------------\n",
            "Article Title: Global leaders meet for climate summit\n",
            "Predicted Category: World\n",
            "--------------------------------------------------\n"
          ]
        }
      ],
      "source": [
        "\n",
        "\n",
        "from transformers import AutoTokenizer, AutoModelForCausalLM\n",
        "\n",
        "hf_token = \"Fill in your Hugging Face token here\"\n",
        "\n",
        "model_name = \"meta-llama/Llama-3.2-1B\"\n",
        "tokenizer = AutoTokenizer.from_pretrained(model_name, token=hf_token)\n",
        "model = AutoModelForCausalLM.from_pretrained(model_name, token=hf_token)\n",
        "\n",
        "def classify_with_llama(article_title, article_body):\n",
        "    prompt = f\"\"\"\n",
        "    You are a news classifier. Your task is to classify news articles into one of these categories: World, Sports, Business, or Science/Technology.\n",
        "    Here are some examples:\n",
        "\n",
        "    Example 1:\n",
        "    Article Title: Oil prices rise due to increased demand\n",
        "    Article Body: The global oil market is seeing an increase in prices due to rising demand and limited supply.\n",
        "    Category: Business\n",
        "\n",
        "    Example 2:\n",
        "    Article Title: Local team wins championship\n",
        "    Article Body: The local football team secured a thrilling victory in the national championship.\n",
        "    Category: Sports\n",
        "\n",
        "    Example 3:\n",
        "    Article Title: New study reveals health benefits of exercise\n",
        "    Article Body: Researchers have found that regular exercise can significantly improve mental health.\n",
        "    Category: Science/Technology\n",
        "\n",
        "    Now classify this article:\n",
        "\n",
        "    Article Title: {article_title}\n",
        "    Article Body: {article_body}\n",
        "\n",
        "    Category:\n",
        "    \"\"\"\n",
        "\n",
        "    inputs = tokenizer(prompt, return_tensors=\"pt\")\n",
        "    outputs = model.generate(**inputs, max_new_tokens=5, temperature=0.3)\n",
        "\n",
        "    response = tokenizer.decode(outputs[0], skip_special_tokens=True)\n",
        "    predicted_category = response.split(\"Category:\")[-1].strip().split(\"\\n\")[0]\n",
        "\n",
        "    return predicted_category\n",
        "\n",
        "sample_articles = [\n",
        "    {\"title\": \"Oil prices rise due to increased demand\", \"body\": \"The global oil market is seeing an increase in prices due to rising demand and limited supply.\"},\n",
        "    {\"title\": \"Local team wins championship\", \"body\": \"The local football team secured a thrilling victory in the national championship.\"},\n",
        "    {\"title\": \"New study reveals health benefits of exercise\", \"body\": \"Researchers have found that regular exercise can significantly improve mental health.\"},\n",
        "    {\"title\": \"Global leaders meet for climate summit\", \"body\": \"World leaders are gathering to discuss strategies for combating climate change.\"}\n",
        "]\n",
        "\n",
        "for article in sample_articles:\n",
        "    category = classify_with_llama(article[\"title\"], article[\"body\"])\n",
        "    print(f\"Article Title: {article['title']}\")\n",
        "    print(f\"Predicted Category: {category}\")\n",
        "    print(\"-\" * 50)\n"
      ]
    },
    {
      "cell_type": "code",
      "execution_count": null,
      "metadata": {
        "id": "Mk7YP6wBfvAJ"
      },
      "outputs": [],
      "source": []
    }
  ],
  "metadata": {
    "colab": {
      "provenance": []
    },
    "kernelspec": {
      "display_name": "env",
      "language": "python",
      "name": "python3"
    },
    "language_info": {
      "codemirror_mode": {
        "name": "ipython",
        "version": 3
      },
      "file_extension": ".py",
      "mimetype": "text/x-python",
      "name": "python",
      "nbconvert_exporter": "python",
      "pygments_lexer": "ipython3",
      "version": "3.12.6"
    }
  },
  "nbformat": 4,
  "nbformat_minor": 0
}
